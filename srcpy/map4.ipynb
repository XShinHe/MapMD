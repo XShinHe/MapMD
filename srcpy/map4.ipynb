{
 "cells": [
  {
   "cell_type": "markdown",
   "metadata": {},
   "source": [
    "<h4 style=\"text-align:right\">CCME,&nbsp; Peking University</h4>\n",
    "***\n",
    "<p>\n",
    "<h1 style=\"text-align:center\"><font face=\"Times Roman\" size=5> Summary of Mapping Model: from a new viewpoint </font></h1>\n",
    "<br>\n",
    "<h2 style=\"text-align:center\"><font face=\"Times Roman\">Author &nbsp;XShinHe</font> </h2>\n",
    "<h2 style=\"text-align:center\"><font face=\"Times Roman\">2018.09.21</font> </h2>"
   ]
  },
  {
   "cell_type": "markdown",
   "metadata": {},
   "source": [
    "## 1. 2-component equation  \n",
    "As we know the Schrodinger equation can be write as: \n",
    "$$\\dot{c}=-iHc$$\n",
    "where i is the imaginary unit, and c is a complex number.\n",
    "then write $c=x+iy$ as:\n",
    "$$c=\n",
    "\\begin{bmatrix}\n",
    "x \\\\\n",
    "y\n",
    "\\end{bmatrix}$$\n",
    "and the equation can be write as:\n",
    "$$\\frac{d}{dt}\n",
    "\\begin{bmatrix} x \\\\ y \\end{bmatrix}\n",
    "=H \\begin{bmatrix} 0 & 1 \\\\ -1 & 0 \\end{bmatrix}\n",
    "\\begin{bmatrix} x \\\\ y \\end{bmatrix}\n",
    "= -H\\omega \\begin{bmatrix} x \\\\ y \\end{bmatrix}$$\n",
    "where:\n",
    "$$ \\omega = \\begin{bmatrix} 0 & -1 \\\\ 1 & 0 \\end{bmatrix}, \\omega^2=-I $$\n",
    "and the population can be written as:\n",
    "$$ N=x^2+y^2 $$\n",
    "\n",
    "**This corresponds Model2**"
   ]
  },
  {
   "cell_type": "markdown",
   "metadata": {},
   "source": [
    "## 2. spilt 2-component equation (pseudo 4-component space)"
   ]
  },
  {
   "cell_type": "markdown",
   "metadata": {},
   "source": [
    "let $x\\mapsto x+p_y$ and $y\\mapsto y-p_x$, so as the equation:\n",
    "$$\\frac{d}{dt}\n",
    "\\begin{bmatrix} x+p_y \\\\ y-p_x \\end{bmatrix}\n",
    "=H \\begin{bmatrix} 0 & 1 \\\\ -1 & 0 \\end{bmatrix}\n",
    "\\begin{bmatrix} x+p_y \\\\ y-p_x \\end{bmatrix}\n",
    "= -H\\omega \\begin{bmatrix} x+p_y \\\\ y-p_x \\end{bmatrix}$$\n",
    "and the population still by:\n",
    "$$N = (x+p_y)^2 + (y-p_x)^2$$\n",
    "but there are 4 independent valuables, with only two equations:\n",
    "$$\n",
    "\\frac{d}{dt}(x+p_y) = H(y-p_x) \\\\\n",
    "\\frac{d}{dt}(y-p_x) = -H(x+p_y)\n",
    "$$\n",
    "to propagate the equation, we can spilt the eqaution like:\n",
    "$$\n",
    "\\frac{d}{dt}(x) = 0.5[H(y-p_x)]_{diag} + [Hy]_{non-diag} \\\\\n",
    "\\frac{d}{dt}(p_y) = 0.5[H(y-p_x)]_{diag} + [H(-p_x)]_{non-diang}\\\\\n",
    "\\frac{d}{dt}(y) = -[Hx]_{diag}-[Hp_y]_{non-diag} \\\\\n",
    "\\frac{d}{dt}(-p_x) = -[Hx]_{non-diag}-[Hp_y]_{diag}\n",
    "$$\n",
    "as while as the four equations can add to the former two equations!  \n",
    "**This can explain ModelIII,ModelIV,ModelV,ModelVI**\n",
    "\n",
    "* specially we note:  \n",
    "> $$\n",
    "\\frac{d}{dt}x = Hy,\\,\\frac{d}{dt}p_y = -Hp_x,\\,\\frac{d}{dt}y= -Hx ,\\,\\frac{d}{dt}p_x = Hp_y\n",
    "$$\n",
    "> or:\n",
    "$$\\frac{d}{dt}\n",
    "\\begin{bmatrix} x \\\\ y \\\\ p_x \\\\ p_y \\end{bmatrix}\n",
    "=H \\begin{bmatrix} 0 & 1 & 0 & 0 \\\\ -1 & 0 & 0 & 0 \\\\ 0 & 0 & 0 & 1 \\\\ 0 & 0 & -1 &0 \\end{bmatrix}\n",
    "\\begin{bmatrix} x \\\\ y \\\\ p_x \\\\ p_y \\end{bmatrix}\n",
    "= -H \\begin{bmatrix}\\omega & 0 \\\\ 0 & \\omega \\end{bmatrix} \\begin{bmatrix} x \\\\ y \\\\ p_x\\\\p_y \\end{bmatrix}$$\n",
    "where:\n",
    "$$ \\begin{bmatrix}\\omega & 0 \\\\ 0 & \\omega \\end{bmatrix}^2=-I_4 $$\n",
    "so this can be a special schrodinger equation on 4-component space, so the amplitude is also discription of population conservsion:  \n",
    "$$ N=x^2+y^2+p_x^2+p_y^2 $$\n",
    "with comparision to\n",
    "$$ N=(x+p_y)^2+(y-p_x)^2 $$\n",
    "their subtraction also discribes the population conservsion:\n",
    "$$ N=(xp_y - yp_x)$$\n",
    "\n",
    "**This can explain ModelI**"
   ]
  },
  {
   "cell_type": "markdown",
   "metadata": {},
   "source": [
    "## 3. Quaternion equation (proper 4-components)"
   ]
  },
  {
   "cell_type": "markdown",
   "metadata": {},
   "source": [
    "as we see, the basic definition of quaternion as:\n",
    "$$ i^2=j^2=k^2=-1 \\\\\n",
    "ij=-ji=k,\\,jk=-kj=i,\\,ki=-ik=j\n",
    "$$\n",
    "so $(\\alpha,\\beta,\\gamma)$ is the direction cosine, the unit $\\mathbb{i}=\\alpha i + \\beta j + \\gamma k$ ( note $\\mathbb{i}^2=-1$ ), is an isomorphism of '$i$' in complex space. so let $c=w+xi+yj+zk$, then the Schrodinger equation write as:\n",
    "$$\\dot{c}=-\\mathbb{i}Hc$$\n",
    "or\n",
    "$$ \\dot{w}+\\dot{x}i+\\dot{y}j+\\dot{z}k=-(\\alpha i + \\beta j + \\gamma k)H(w+xi+yj+zk)$$\n",
    "or in matrix form:\n",
    "$$\\frac{d}{dt}\\begin{bmatrix} w \\\\ x \\\\ y \\\\ z \\end{bmatrix} =\n",
    "\\begin{bmatrix} 0 & \\alpha & \\beta & \\gamma \\\\\n",
    "-\\alpha & 0 & \\gamma & -\\beta \\\\\n",
    "-\\beta & -\\gamma & 0 & \\alpha \\\\\n",
    "-\\gamma & \\beta & -\\alpha & 0\n",
    "\\end{bmatrix}H \\begin{bmatrix} w \\\\ x \\\\ y \\\\ z \\end{bmatrix}\n",
    "=WH \\begin{bmatrix} w \\\\ x \\\\ y \\\\ z \\end{bmatrix}\n",
    "$$\n",
    "this easy to show \n",
    "$$W^2=-(\\alpha^2+\\beta^2+\\gamma^2)I_4 = -I_4 $$\n",
    "and population by\n",
    "$$ N=w^2+x^2+y^2+z^2 $$\n",
    "note when $\\alpha=1,\\,\\beta=\\gamma=0$, it backs to ModelI."
   ]
  },
  {
   "cell_type": "markdown",
   "metadata": {},
   "source": [
    "## 4. work on Dirac equation"
   ]
  },
  {
   "cell_type": "markdown",
   "metadata": {},
   "source": [
    "as we know the Dirac equation as:\n",
    "$$i\\gamma^{\\mu}$$"
   ]
  },
  {
   "cell_type": "code",
   "execution_count": null,
   "metadata": {},
   "outputs": [],
   "source": [
    "import numpy as np\n",
    "import matplotlib.pyplot as plt\n",
    "\n",
    "class multinum:\n",
    "    def __init__(self, **args):\n",
    "        # initial size\n",
    "        if 'size' in args:\n",
    "            self.size = args['size']\n",
    "        else:\n",
    "            print('warning, loss of matrix size')\n",
    "            exit()\n",
    "        \n",
    "        # initial dim: complex, quaternion, octonion\n",
    "        if 'dim' in args:\n",
    "            self.dim = args['dim']\n",
    "        else:\n",
    "            # default\n",
    "            self.dim = 2\n",
    "        self.v=np.zeros(self.size, self.dim)\n",
    "        \n",
    "        # initial mod\n",
    "        if 'mod' in args:\n",
    "            self.mod = args['mod']\n",
    "        else:\n",
    "            # default\n",
    "            self.mod = 0\n",
    "    \n",
    "    def popu(self):\n",
    "        if self.dim == 2:\n",
    "            return sum(self.v**2)\n",
    "        if self.dim == 4 and self.mod == 0:\n",
    "            return sum(self.v**2)\n",
    "\n",
    "Nsize = 3\n",
    "Ndim = 2\n",
    "Nstep = 10000\n",
    "dt = 0.001\n",
    "lamb = 0.2\n",
    "H = np.Array([[10,lamb,lamb],[lamb,7,lamb],[lamb,lamb,2]])\n",
    "c = np.zeros(4)\n",
    "\n",
    "m=multinum\n",
    "\n",
    "for i in range(Nstep):"
   ]
  }
 ],
 "metadata": {
  "kernelspec": {
   "display_name": "Python 3",
   "language": "python",
   "name": "python3"
  },
  "language_info": {
   "codemirror_mode": {
    "name": "ipython",
    "version": 3
   },
   "file_extension": ".py",
   "mimetype": "text/x-python",
   "name": "python",
   "nbconvert_exporter": "python",
   "pygments_lexer": "ipython3",
   "version": "3.6.4"
  }
 },
 "nbformat": 4,
 "nbformat_minor": 2
}
