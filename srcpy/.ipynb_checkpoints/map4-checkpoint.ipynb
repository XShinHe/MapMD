{
 "cells": [
  {
   "cell_type": "markdown",
   "metadata": {},
   "source": [
    "<h4 style=\"text-align:right\">CCME,&nbsp; Peking University</h4>\n",
    "***\n",
    "<p>\n",
    "<h1 style=\"text-align:center\"><font face=\"Times Roman\" size=5> Summary of Mapping Model: from an unique viewpoint </font></h1>\n",
    "<br>\n",
    "<h2 style=\"text-align:center\"><font face=\"Times Roman\">Author &nbsp;XShinHe</font> </h2>\n",
    "<h2 style=\"text-align:center\"><font face=\"Times Roman\">2018.09.21</font> </h2>"
   ]
  },
  {
   "cell_type": "markdown",
   "metadata": {},
   "source": [
    "## 1. 2-component equation  \n",
    "As we know the Schrodinger equation can be write as: \n",
    "$$\\dot{c}=-iHc$$\n",
    "where i is the imaginary unit, and c is a complex number.\n",
    "then write $c=x+iy$ as:\n",
    "$$c=\n",
    "\\begin{bmatrix}\n",
    "x \\\\\n",
    "y\n",
    "\\end{bmatrix}$$\n",
    "and the equation can be write as:\n",
    "$$\\frac{d}{dt}\n",
    "\\begin{bmatrix} x \\\\ y \\end{bmatrix}\n",
    "=H \\begin{bmatrix} 0 & 1 \\\\ -1 & 0 \\end{bmatrix}\n",
    "\\begin{bmatrix} x \\\\ y \\end{bmatrix}\n",
    "= -H\\omega \\begin{bmatrix} x \\\\ y \\end{bmatrix}$$\n",
    "where:\n",
    "$$ \\omega = \\begin{bmatrix} 0 & -1 \\\\ 1 & 0 \\end{bmatrix}, \\omega^2=-I $$\n",
    "and the population can be written as:\n",
    "$$ N=x^2+y^2 $$"
   ]
  },
  {
   "cell_type": "markdown",
   "metadata": {},
   "source": [
    "## 2. spilt 2-component equation (pseudo 4-component space)"
   ]
  },
  {
   "cell_type": "markdown",
   "metadata": {},
   "source": [
    "let $x\\mapsto x+p_y$ and $y\\mapsto y-p_x$, so as the equation:\n",
    "$$\\frac{d}{dt}\n",
    "\\begin{bmatrix} x+p_y \\\\ y-p_x \\end{bmatrix}\n",
    "=H \\begin{bmatrix} 0 & 1 \\\\ -1 & 0 \\end{bmatrix}\n",
    "\\begin{bmatrix} x+p_y \\\\ y-p_x \\end{bmatrix}\n",
    "= -H\\omega \\begin{bmatrix} x+p_y \\\\ y-p_x \\end{bmatrix}$$\n",
    "and the population still by:\n",
    "$$N = (x+p_y)^2 + (y-p_x)^2$$\n",
    "but there are 4 independent valuables, with only two equations:\n",
    "$$\n",
    "\\frac{d}{dt}(x+p_y) = H(y-p_x) \\\\\n",
    "\\frac{d}{dt}(y-p_x) = H(x+p_y)\n",
    "$$\n",
    "to propagate the equation, we can spilt the eqaution like:\n",
    "$$\n",
    "\\frac{d}{dt}(x) = 0.5[H(y-p_x)]_{diag} + [Hy]_{non-diag} \\\\\n",
    "\\frac{d}{dt}(p_y) = 0.5[H(y-p_x)]_{diag} + [H(-p_x)]_{non-diang}\\\\\n",
    "\\frac{d}{dt}(y) = [Hx]_{diag}+[Hp_y]_{non-diag} \\\\\n",
    "\\frac{d}{dt}(-p_x) = [Hx]_{non-diag}+[Hp_y]_{diag}\n",
    "$$\n",
    "as while as the four equations can add to the former two equations!\n",
    "* specially we note:  \n",
    "> $$\n",
    "\\frac{d}{dt}(x) = -Hp_x \\\\\n",
    "\\frac{d}{dt}(p_y) = -p_x)]_{diag} + [H(-p_x)]_{non-diang}\\\\\n",
    "\\frac{d}{dt}(y) = [Hx]_{diag}+[Hp_y]_{non-diag} \\\\\n",
    "\\frac{d}{dt}(-p_x) = [Hx]_{non-diag}+[Hp_y]_{diag}\n",
    "$$"
   ]
  },
  {
   "cell_type": "code",
   "execution_count": null,
   "metadata": {},
   "outputs": [],
   "source": [
    "import numpy as np\n",
    "import matplotlib.pyplot as plt\n",
    "\n",
    "class multinum:\n",
    "    def __init__(self, **args):\n",
    "        # initial size\n",
    "        if 'size' in args:\n",
    "            self.size = args['size']\n",
    "        else:\n",
    "            print('warning, loss of matrix size')\n",
    "            exit()\n",
    "        \n",
    "        # initial dim: complex, quaternion, octonion\n",
    "        if 'dim' in args:\n",
    "            self.dim = args['dim']\n",
    "        else:\n",
    "            # default\n",
    "            self.dim = 2\n",
    "        self.v=np.zeros(self.size, self.dim)\n",
    "        \n",
    "        # initial mod\n",
    "        if 'mod' in args:\n",
    "            self.mod = args['mod']\n",
    "        else:\n",
    "            # default\n",
    "            self.mod = 0\n",
    "    \n",
    "    def popu(self):\n",
    "        if self.dim == 2:\n",
    "            return sum(self.v**2)\n",
    "        if self.dim == 4 and self.mod == 0:\n",
    "            return sum(self.v**2)\n",
    "\n",
    "Nsize = 3\n",
    "Ndim = 2\n",
    "Nstep = 10000\n",
    "dt = 0.001\n",
    "lamb = 0.2\n",
    "H = np.Array([[10,lamb,lamb],[lamb,7,lamb],[lamb,lamb,2]])\n",
    "c = np.zeros(4)\n",
    "\n",
    "m=multinum\n",
    "\n",
    "for i in range(Nstep):"
   ]
  }
 ],
 "metadata": {
  "kernelspec": {
   "display_name": "Python 3",
   "language": "python",
   "name": "python3"
  },
  "language_info": {
   "codemirror_mode": {
    "name": "ipython",
    "version": 3
   },
   "file_extension": ".py",
   "mimetype": "text/x-python",
   "name": "python",
   "nbconvert_exporter": "python",
   "pygments_lexer": "ipython3",
   "version": "3.6.4"
  }
 },
 "nbformat": 4,
 "nbformat_minor": 2
}
